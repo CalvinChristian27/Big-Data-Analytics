{
  "nbformat": 4,
  "nbformat_minor": 0,
  "metadata": {
    "colab": {
      "provenance": []
    },
    "kernelspec": {
      "name": "python3",
      "display_name": "Python 3"
    },
    "language_info": {
      "name": "python"
    }
  },
  "cells": [
    {
      "cell_type": "code",
      "execution_count": null,
      "metadata": {
        "colab": {
          "base_uri": "https://localhost:8080/"
        },
        "id": "jtYGI0Dh5LCx",
        "outputId": "65777150-6456-480a-be90-edd9b2ebeb00"
      },
      "outputs": [
        {
          "output_type": "stream",
          "name": "stdout",
          "text": [
            "Collecting google-play-scraper\n",
            "  Downloading google_play_scraper-1.2.7-py3-none-any.whl.metadata (50 kB)\n",
            "\u001b[?25l     \u001b[90m━━━━━━━━━━━━━━━━━━━━━━━━━━━━━━━━━━━━━━━━\u001b[0m \u001b[32m0.0/50.2 kB\u001b[0m \u001b[31m?\u001b[0m eta \u001b[36m-:--:--\u001b[0m\r\u001b[2K     \u001b[90m━━━━━━━━━━━━━━━━━━━━━━━━━━━━━━━━━━━━━━━━\u001b[0m \u001b[32m50.2/50.2 kB\u001b[0m \u001b[31m2.0 MB/s\u001b[0m eta \u001b[36m0:00:00\u001b[0m\n",
            "\u001b[?25hDownloading google_play_scraper-1.2.7-py3-none-any.whl (28 kB)\n",
            "Installing collected packages: google-play-scraper\n",
            "Successfully installed google-play-scraper-1.2.7\n"
          ]
        }
      ],
      "source": [
        "!pip install google-play-scraper"
      ]
    },
    {
      "cell_type": "code",
      "source": [
        "from google_play_scraper import reviews\n",
        "import pandas as pd\n",
        "\n",
        "reviews_data, _ = reviews(\n",
        "    'com.mobile.legends',\n",
        "    lang='id',\n",
        "    country='id',\n",
        "    count=50\n",
        ")\n",
        "\n",
        "df = pd.DataFrame(reviews_data)\n",
        "df.to_csv('reviews.csv', index=False)"
      ],
      "metadata": {
        "id": "a1c0SpNz6sLl"
      },
      "execution_count": null,
      "outputs": []
    },
    {
      "cell_type": "code",
      "source": [
        "df = pd.read_csv('reviews.csv')\n",
        "print(df.head())"
      ],
      "metadata": {
        "colab": {
          "base_uri": "https://localhost:8080/"
        },
        "id": "d78abJmNBjre",
        "outputId": "95ef1fff-ea10-4ab7-c9e5-17335f081c8c"
      },
      "execution_count": null,
      "outputs": [
        {
          "output_type": "stream",
          "name": "stdout",
          "text": [
            "                               reviewId            userName  \\\n",
            "0  9c6a5441-2111-4d17-b442-93f32c996c07          Rahman Ari   \n",
            "1  1a07d375-9e1d-4a5e-9465-ff04de996569  M Rasya Alfa rizki   \n",
            "2  76334a31-d51d-4181-b5ad-4ddd8a508913          Jono Supri   \n",
            "3  310e1137-2686-4911-befa-689853835d23              ZhenXy   \n",
            "4  4fefb641-dbe8-4825-9f1f-ad59b8e367b0         Alpi Impass   \n",
            "\n",
            "                                           userImage  \\\n",
            "0  https://play-lh.googleusercontent.com/a/ACg8oc...   \n",
            "1  https://play-lh.googleusercontent.com/a-/ALV-U...   \n",
            "2  https://play-lh.googleusercontent.com/a-/ALV-U...   \n",
            "3  https://play-lh.googleusercontent.com/a-/ALV-U...   \n",
            "4  https://play-lh.googleusercontent.com/a-/ALV-U...   \n",
            "\n",
            "                                             content  score  thumbsUpCount  \\\n",
            "0  Perbaiki draksistem gue capek di lock jadi kal...      1              4   \n",
            "1  Udah bagus sih sekarang udah GK patah patah tp...      4              0   \n",
            "2  Ml kontol asuuu ke-i konco Yo koyo ngono asu a...      1              0   \n",
            "3  Kenapa event M6 tidak hadir di advance sever!! ??      3              0   \n",
            "4  Gak klasik gak renk banyak kali dark sistem ny...      1              0   \n",
            "\n",
            "  reviewCreatedVersion                   at replyContent repliedAt  \\\n",
            "0                  NaN  2024-11-26 10:01:50          NaN       NaN   \n",
            "1         1.9.29.10113  2024-11-26 09:58:12          NaN       NaN   \n",
            "2          19.2.21.104  2024-11-26 09:49:25          NaN       NaN   \n",
            "3                  NaN  2024-11-26 09:48:44          NaN       NaN   \n",
            "4         1.9.33.10117  2024-11-26 09:48:17          NaN       NaN   \n",
            "\n",
            "     appVersion  \n",
            "0           NaN  \n",
            "1  1.9.29.10113  \n",
            "2   19.2.21.104  \n",
            "3           NaN  \n",
            "4  1.9.33.10117  \n"
          ]
        }
      ]
    },
    {
      "cell_type": "code",
      "source": [
        "import re\n",
        "import string\n",
        "\n",
        "def clean_text(text):\n",
        "    text = re.sub(r\"http\\S+\", \"\", text)\n",
        "    text = re.sub(r\"\\d+\", \"\", text)\n",
        "    text = text.translate(str.maketrans(\"\", \"\", string.punctuation))\n",
        "    text = text.lower()\n",
        "    return text\n",
        "\n",
        "df['cleaned_text'] = df['content'].apply(clean_text)\n",
        "print(df['cleaned_text'].head())"
      ],
      "metadata": {
        "colab": {
          "base_uri": "https://localhost:8080/"
        },
        "id": "QXuXa0VYCkyM",
        "outputId": "1468f5e1-fc17-427d-c79e-5ac8c9b08b35"
      },
      "execution_count": null,
      "outputs": [
        {
          "output_type": "stream",
          "name": "stdout",
          "text": [
            "0    perbaiki draksistem gue capek di lock jadi kal...\n",
            "1    udah bagus sih sekarang udah gk patah patah tp...\n",
            "2    ml kontol asuuu kei konco yo koyo ngono asu as...\n",
            "3         kenapa event m tidak hadir di advance sever \n",
            "4    gak klasik gak renk banyak kali dark sistem ny...\n",
            "Name: cleaned_text, dtype: object\n"
          ]
        }
      ]
    },
    {
      "cell_type": "code",
      "source": [
        "import nltk\n",
        "nltk.download('punkt_tab')\n",
        "\n",
        "from nltk.tokenize import word_tokenize\n",
        "\n",
        "df['tokens'] = df['cleaned_text'].apply(word_tokenize)\n",
        "print(df['tokens'].head())"
      ],
      "metadata": {
        "colab": {
          "base_uri": "https://localhost:8080/"
        },
        "id": "3SqAUuUWC6x4",
        "outputId": "b1b6daaf-0507-4e9b-9e44-a6adfe84c11c"
      },
      "execution_count": null,
      "outputs": [
        {
          "output_type": "stream",
          "name": "stderr",
          "text": [
            "[nltk_data] Downloading package punkt_tab to /root/nltk_data...\n",
            "[nltk_data]   Unzipping tokenizers/punkt_tab.zip.\n"
          ]
        },
        {
          "output_type": "stream",
          "name": "stdout",
          "text": [
            "0    [perbaiki, draksistem, gue, capek, di, lock, j...\n",
            "1    [udah, bagus, sih, sekarang, udah, gk, patah, ...\n",
            "2    [ml, kontol, asuuu, kei, konco, yo, koyo, ngon...\n",
            "3    [kenapa, event, m, tidak, hadir, di, advance, ...\n",
            "4    [gak, klasik, gak, renk, banyak, kali, dark, s...\n",
            "Name: tokens, dtype: object\n"
          ]
        }
      ]
    },
    {
      "cell_type": "code",
      "source": [
        "from nltk.corpus import stopwords\n",
        "nltk.download('stopwords')\n",
        "\n",
        "stop_words = set(stopwords.words('indonesian'))\n",
        "df['tokens'] = df['tokens'].apply(lambda x: [word for word in x if word not in stop_words])\n",
        "print(df['tokens'].head())"
      ],
      "metadata": {
        "colab": {
          "base_uri": "https://localhost:8080/"
        },
        "id": "e0pPOjCBTK6p",
        "outputId": "e9cb8efe-c35e-45d7-ec3a-81d0159ea8ac"
      },
      "execution_count": null,
      "outputs": [
        {
          "output_type": "stream",
          "name": "stderr",
          "text": [
            "[nltk_data] Downloading package stopwords to /root/nltk_data...\n",
            "[nltk_data]   Unzipping corpora/stopwords.zip.\n"
          ]
        },
        {
          "output_type": "stream",
          "name": "stdout",
          "text": [
            "0    [perbaiki, draksistem, gue, capek, lock, kalah...\n",
            "1    [udah, bagus, sih, udah, gk, patah, patah, tp,...\n",
            "2    [ml, kontol, asuuu, kei, konco, yo, koyo, ngon...\n",
            "3                    [event, m, hadir, advance, sever]\n",
            "4    [gak, klasik, gak, renk, kali, dark, sistem, n...\n",
            "Name: tokens, dtype: object\n"
          ]
        }
      ]
    },
    {
      "cell_type": "code",
      "source": [
        "from sklearn.feature_extraction.text import TfidfVectorizer\n",
        "\n",
        "tfidf = TfidfVectorizer(max_features=5000)\n",
        "X = tfidf.fit_transform(df['cleaned_text']).toarray()\n",
        "print(X.shape)"
      ],
      "metadata": {
        "colab": {
          "base_uri": "https://localhost:8080/"
        },
        "id": "uA_Zml0zTw9O",
        "outputId": "709707ac-8b51-4522-be4c-7697a66b34ce"
      },
      "execution_count": null,
      "outputs": [
        {
          "output_type": "stream",
          "name": "stdout",
          "text": [
            "(50, 413)\n"
          ]
        }
      ]
    },
    {
      "cell_type": "code",
      "source": [
        "def label_sentiment(score):\n",
        "    if score >= 4:\n",
        "        return \"Positive\"\n",
        "    elif score == 3:\n",
        "        return \"Neutral\"\n",
        "    else:\n",
        "        return \"Negative\"\n",
        "\n",
        "df['sentiment'] = df['score'].apply(label_sentiment)  # Kolom 'score' berisi nilai bintang\n",
        "print(df['sentiment'].value_counts())"
      ],
      "metadata": {
        "colab": {
          "base_uri": "https://localhost:8080/"
        },
        "id": "714fNiwPUNsb",
        "outputId": "cfd392b7-b1d0-4045-d441-78818048fbc6"
      },
      "execution_count": null,
      "outputs": [
        {
          "output_type": "stream",
          "name": "stdout",
          "text": [
            "sentiment\n",
            "Negative    32\n",
            "Positive    15\n",
            "Neutral      3\n",
            "Name: count, dtype: int64\n"
          ]
        }
      ]
    },
    {
      "cell_type": "code",
      "source": [
        "from sklearn.model_selection import train_test_split\n",
        "\n",
        "X_train, X_test, y_train, y_test = train_test_split(X, df['sentiment'], test_size=0.2, random_state=42)"
      ],
      "metadata": {
        "id": "-2sYUFZZUVLY"
      },
      "execution_count": null,
      "outputs": []
    },
    {
      "cell_type": "code",
      "source": [
        "from sklearn.naive_bayes import MultinomialNB\n",
        "from sklearn.metrics import classification_report\n",
        "\n",
        "nb_model = MultinomialNB()\n",
        "nb_model.fit(X_train, y_train)\n",
        "\n",
        "y_pred_nb = nb_model.predict(X_test)\n",
        "print(\"Naive Bayes Classification Report:\")\n",
        "print(classification_report(y_test, y_pred_nb))"
      ],
      "metadata": {
        "colab": {
          "base_uri": "https://localhost:8080/"
        },
        "id": "SqFAvvGqUY8O",
        "outputId": "f033e320-25ce-4ffd-965d-b8d9be460cc1"
      },
      "execution_count": null,
      "outputs": [
        {
          "output_type": "stream",
          "name": "stdout",
          "text": [
            "Naive Bayes Classification Report:\n",
            "              precision    recall  f1-score   support\n",
            "\n",
            "    Negative       0.78      1.00      0.88         7\n",
            "     Neutral       0.00      0.00      0.00         1\n",
            "    Positive       1.00      0.50      0.67         2\n",
            "\n",
            "    accuracy                           0.80        10\n",
            "   macro avg       0.59      0.50      0.51        10\n",
            "weighted avg       0.74      0.80      0.75        10\n",
            "\n"
          ]
        },
        {
          "output_type": "stream",
          "name": "stderr",
          "text": [
            "/usr/local/lib/python3.10/dist-packages/sklearn/metrics/_classification.py:1531: UndefinedMetricWarning: Precision is ill-defined and being set to 0.0 in labels with no predicted samples. Use `zero_division` parameter to control this behavior.\n",
            "  _warn_prf(average, modifier, f\"{metric.capitalize()} is\", len(result))\n",
            "/usr/local/lib/python3.10/dist-packages/sklearn/metrics/_classification.py:1531: UndefinedMetricWarning: Precision is ill-defined and being set to 0.0 in labels with no predicted samples. Use `zero_division` parameter to control this behavior.\n",
            "  _warn_prf(average, modifier, f\"{metric.capitalize()} is\", len(result))\n",
            "/usr/local/lib/python3.10/dist-packages/sklearn/metrics/_classification.py:1531: UndefinedMetricWarning: Precision is ill-defined and being set to 0.0 in labels with no predicted samples. Use `zero_division` parameter to control this behavior.\n",
            "  _warn_prf(average, modifier, f\"{metric.capitalize()} is\", len(result))\n"
          ]
        }
      ]
    },
    {
      "cell_type": "code",
      "source": [
        "from sklearn.svm import SVC\n",
        "\n",
        "svm_model = SVC(kernel='linear')\n",
        "svm_model.fit(X_train, y_train)\n",
        "\n",
        "y_pred_svm = svm_model.predict(X_test)\n",
        "print(\"SVM Classification Report:\")\n",
        "print(classification_report(y_test, y_pred_svm))"
      ],
      "metadata": {
        "colab": {
          "base_uri": "https://localhost:8080/"
        },
        "id": "Vq2NF6FJUkiJ",
        "outputId": "c42b1fb6-0b76-4009-e483-b8f9cb4f5587"
      },
      "execution_count": null,
      "outputs": [
        {
          "output_type": "stream",
          "name": "stdout",
          "text": [
            "SVM Classification Report:\n",
            "              precision    recall  f1-score   support\n",
            "\n",
            "    Negative       0.88      1.00      0.93         7\n",
            "     Neutral       0.00      0.00      0.00         1\n",
            "    Positive       1.00      1.00      1.00         2\n",
            "\n",
            "    accuracy                           0.90        10\n",
            "   macro avg       0.62      0.67      0.64        10\n",
            "weighted avg       0.81      0.90      0.85        10\n",
            "\n"
          ]
        },
        {
          "output_type": "stream",
          "name": "stderr",
          "text": [
            "/usr/local/lib/python3.10/dist-packages/sklearn/metrics/_classification.py:1531: UndefinedMetricWarning: Precision is ill-defined and being set to 0.0 in labels with no predicted samples. Use `zero_division` parameter to control this behavior.\n",
            "  _warn_prf(average, modifier, f\"{metric.capitalize()} is\", len(result))\n",
            "/usr/local/lib/python3.10/dist-packages/sklearn/metrics/_classification.py:1531: UndefinedMetricWarning: Precision is ill-defined and being set to 0.0 in labels with no predicted samples. Use `zero_division` parameter to control this behavior.\n",
            "  _warn_prf(average, modifier, f\"{metric.capitalize()} is\", len(result))\n",
            "/usr/local/lib/python3.10/dist-packages/sklearn/metrics/_classification.py:1531: UndefinedMetricWarning: Precision is ill-defined and being set to 0.0 in labels with no predicted samples. Use `zero_division` parameter to control this behavior.\n",
            "  _warn_prf(average, modifier, f\"{metric.capitalize()} is\", len(result))\n"
          ]
        }
      ]
    },
    {
      "cell_type": "code",
      "source": [
        "from sklearn.metrics import accuracy_score\n",
        "\n",
        "print(\"Naive Bayes Accuracy:\", accuracy_score(y_test, y_pred_nb))\n",
        "print(\"SVM Accuracy:\", accuracy_score(y_test, y_pred_svm))"
      ],
      "metadata": {
        "colab": {
          "base_uri": "https://localhost:8080/"
        },
        "id": "NFOStgc3UmYH",
        "outputId": "cb080607-fc28-44a5-c606-d33a9643d194"
      },
      "execution_count": null,
      "outputs": [
        {
          "output_type": "stream",
          "name": "stdout",
          "text": [
            "Naive Bayes Accuracy: 0.8\n",
            "SVM Accuracy: 0.9\n"
          ]
        }
      ]
    }
  ]
}